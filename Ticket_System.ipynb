{
 "cells": [
  {
   "cell_type": "code",
   "execution_count": 1,
   "metadata": {},
   "outputs": [
    {
     "name": "stdout",
     "output_type": "stream",
     "text": [
      "Number of passengers: 3\n",
      "Passenger ages:  [2, 18, 21]\n",
      "Total ticket cost = 200\n"
     ]
    }
   ],
   "source": [
    "# create a ticketing system that will take the number and age of passengers and calculate the total cost.\n",
    "# for children under 3 Y.O ticket is free.\n",
    "\n",
    "# take input and convert to an integer:\n",
    "pass_num = int(input(\"Please enter number of passengers: \"))\n",
    "\n",
    "\n",
    "try:\n",
    "    print(f\"Number of passengers: {pass_num}\")\n",
    "except ValueError:\n",
    "    print(\"Invalid input. Please enter a valid number.\")\n",
    "\n",
    "\n",
    "# Initialize an empty list to store the ages of passengers\n",
    "pass_age_list = []\n",
    "\n",
    "# Prompt the user to enter the ages of passengers\n",
    "for i in range(pass_num):\n",
    "    while True:\n",
    "        try:\n",
    "            age = int(input(f\"Please enter age of passenger {i + 1}: \"))\n",
    "            if age < 0:\n",
    "                raise ValueError(\"Age cannot be negative.\")\n",
    "            pass_age_list.append(age)\n",
    "            break\n",
    "        except ValueError as e:\n",
    "            print(f\"Invalid input: {e}. Please enter a valid age.\")\n",
    "\n",
    "\n",
    "# Print the list of passenger ages\n",
    "print(\"Passenger ages: \", pass_age_list)\n",
    "\n",
    "# now calculate the cost of ticket prices based on user input where childeren under 3 are free:\n",
    "ticket_cost = 100\n",
    "total = 0\n",
    "age_loc = 0\n",
    "\n",
    "\n",
    "while True:\n",
    "    for age in pass_age_list:\n",
    "        if age > 3:\n",
    "            total = total + ticket_cost\n",
    "        elif age <= 3:\n",
    "            continue\n",
    "    print(f\"Total ticket cost = {total}\")\n",
    "    break"
   ]
  }
 ],
 "metadata": {
  "kernelspec": {
   "display_name": "Python 3",
   "language": "python",
   "name": "python3"
  },
  "language_info": {
   "codemirror_mode": {
    "name": "ipython",
    "version": 3
   },
   "file_extension": ".py",
   "mimetype": "text/x-python",
   "name": "python",
   "nbconvert_exporter": "python",
   "pygments_lexer": "ipython3",
   "version": "3.12.1"
  }
 },
 "nbformat": 4,
 "nbformat_minor": 2
}
