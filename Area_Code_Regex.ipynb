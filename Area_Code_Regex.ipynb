{
 "cells": [
  {
   "cell_type": "markdown",
   "metadata": {},
   "source": [
    "### Area Code Regex:\n",
    "\n",
    "The following script will allow the area code to be extracted from a given list of mobile numbers and added to a dataframe."
   ]
  },
  {
   "cell_type": "code",
   "execution_count": null,
   "metadata": {},
   "outputs": [],
   "source": [
    "# Import modules:\n",
    "import re\n",
    "import pandas as pd"
   ]
  },
  {
   "cell_type": "code",
   "execution_count": 7,
   "metadata": {},
   "outputs": [
    {
     "name": "stdout",
     "output_type": "stream",
     "text": [
      "['123', '555', '987', '800', '123']\n"
     ]
    }
   ],
   "source": [
    "# List of Phone Numbers\n",
    "phone_numbers = [\"(123) 456-7890\", \"(555) 123-4567\", \"(987) 654-3210\", \"(800) 555-1212\", \"(123) 456-7890\"]\n",
    "\n",
    "# extract the 3 digits found within the parenthesis:\n",
    "area_code_pattern = r'\\((\\d{3})\\)'\n",
    "\n",
    "# List to store extracted area codes:\n",
    "area_codes = []\n",
    "\n",
    "# Loop through each phone number and extract area codes:\n",
    "for number in phone_numbers:\n",
    "    area_codes.append(re.findall(area_code_pattern, number)[0])\n",
    "\n",
    "# Print out the list:\n",
    "print(area_codes)"
   ]
  }
 ],
 "metadata": {
  "kernelspec": {
   "display_name": "Python 3",
   "language": "python",
   "name": "python3"
  },
  "language_info": {
   "codemirror_mode": {
    "name": "ipython",
    "version": 3
   },
   "file_extension": ".py",
   "mimetype": "text/x-python",
   "name": "python",
   "nbconvert_exporter": "python",
   "pygments_lexer": "ipython3",
   "version": "3.12.1"
  }
 },
 "nbformat": 4,
 "nbformat_minor": 2
}
