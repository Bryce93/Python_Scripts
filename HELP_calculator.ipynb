{
 "cells": [
  {
   "cell_type": "code",
   "execution_count": 1,
   "metadata": {},
   "outputs": [
    {
     "name": "stdout",
     "output_type": "stream",
     "text": [
      "Year 1 - Balance          79033.0\n",
      "Year 2 - Balance          68597.551\n",
      "Year 3 - Balance          57671.635897\n",
      "Year 4 - Balance          46232.202784159\n",
      "Year 5 - Balance          34255.11631501448\n",
      "Year 6 - Balance          21715.106781820155\n",
      "Year 7 - Balance          8585.716800565704\n",
      "Year 8 - Balance          -5160.754509807708\n",
      "debt paid in 8 years\n"
     ]
    }
   ],
   "source": [
    "# this script will calculate how long it will take to repay your HELP debt:\n",
    "\n",
    "\n",
    "INDEXATION = float(input(\"please enter the indexation rate\")) # assume latest indexation rate of 4.7%\n",
    "\n",
    "DEBT_BALANCE = float(input(\"please enter current help debt\"))\n",
    "\n",
    "REPAYMENT = float(input(\"please enter your calculated repayment amount\")) # see https://www.ato.gov.au/tax-rates-and-codes/study-and-training-support-loans-rates-and-repayment-thresholds\n",
    "\n",
    "\n",
    "LOAN_DURATION = 0\n",
    "\n",
    "\n",
    "while DEBT_BALANCE > 0:\n",
    "        indexed_bal = DEBT_BALANCE + (INDEXATION * DEBT_BALANCE)\n",
    "        DEBT_BALANCE = indexed_bal - REPAYMENT\n",
    "        LOAN_DURATION += 1\n",
    "        print(f\"Year {LOAN_DURATION} - Balance {DEBT_BALANCE}\")\n",
    "\n",
    "        if DEBT_BALANCE <= 0:\n",
    "                print(f\"debt paid in {LOAN_DURATION} years\")\n",
    "                break\n",
    "\n"
   ]
  }
 ],
 "metadata": {
  "kernelspec": {
   "display_name": "Python 3",
   "language": "python",
   "name": "python3"
  },
  "language_info": {
   "codemirror_mode": {
    "name": "ipython",
    "version": 3
   },
   "file_extension": ".py",
   "mimetype": "text/x-python",
   "name": "python",
   "nbconvert_exporter": "python",
   "pygments_lexer": "ipython3",
   "version": "3.12.1"
  }
 },
 "nbformat": 4,
 "nbformat_minor": 2
}
