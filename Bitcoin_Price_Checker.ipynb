{
 "cells": [
  {
   "cell_type": "markdown",
   "metadata": {},
   "source": [
    "### Bitcoin Price Checker:\n",
    "\n",
    "This program will take in a url of interest, extract the price of Bitcoin and append this to a .csv file every 10 seconds."
   ]
  },
  {
   "cell_type": "code",
   "execution_count": 4,
   "metadata": {},
   "outputs": [],
   "source": [
    "# import relevant modules:\n",
    "\n",
    "from bs4 import BeautifulSoup\n",
    "import requests\n",
    "import pandas as pd\n",
    "from datetime import datetime\n",
    "import os\n",
    "import time # used for automating the script"
   ]
  },
  {
   "cell_type": "code",
   "execution_count": 5,
   "metadata": {},
   "outputs": [],
   "source": [
    "def crypto_price_checker(): \n",
    "    \n",
    "    # define function to pull url data:\n",
    "    def get_url(url):\n",
    "        page = requests.get(url)\n",
    "        if page.status_code == 200:\n",
    "            soup = BeautifulSoup(page.text, 'html')\n",
    "            return soup\n",
    "        else: print(f\"Failed to retrieve data. Status code: {page.status_code}\")\n",
    "\n",
    "    url = 'https://coinmarketcap.com/currencies/bitcoin/'\n",
    "\n",
    "    soup = get_url(url)\n",
    "\n",
    "    crypto_name = soup.find('span', class_ = 'sc-65e7f566-0 lsTl').text.replace(' price', '')\n",
    "\n",
    "    crypto_price = soup.find('span', class_ = 'sc-65e7f566-0 esyGGG base-text').text.replace('$', '')\n",
    "\n",
    "    # create time stamp varible to id time of run:\n",
    "    time_stamp = datetime.now()\n",
    "\n",
    "    # insert variables into dictionary:\n",
    "    dict = {'Crypto_Name': crypto_name, \n",
    "            'Crypto_Price': crypto_price,\n",
    "            'Time_Stamp': time_stamp}\n",
    "\n",
    "    # create dataframe from dictionary:\n",
    "    df = pd.DataFrame([dict])\n",
    "\n",
    "\n",
    "    # Define the file path\n",
    "    file_path = r'C:\\Users\\bryce\\OneDrive\\Documents\\Python Scripts\\Analyst Builder\\Python Beginners\\Projects\\Webscraper_Output\\Crypto\\Bitcoin_Price_Check.csv'\n",
    "\n",
    "    # Check if the file exists and append if it does, or create a new file if it doesn't\n",
    "    if os.path.exists(file_path):\n",
    "        df.to_csv(file_path, mode='a', header=False, index=False)  # Append without writing the header again + remove index\n",
    "    else:\n",
    "        df.to_csv(file_path, index=False)\n",
    "    print(df)"
   ]
  },
  {
   "cell_type": "code",
   "execution_count": 7,
   "metadata": {},
   "outputs": [
    {
     "name": "stdout",
     "output_type": "stream",
     "text": [
      "  Crypto_Name Crypto_Price                 Time_Stamp\n",
      "0     Bitcoin   104,552.06 2025-01-25 14:00:40.765597\n"
     ]
    },
    {
     "ename": "KeyboardInterrupt",
     "evalue": "",
     "output_type": "error",
     "traceback": [
      "\u001b[1;31m---------------------------------------------------------------------------\u001b[0m",
      "\u001b[1;31mKeyboardInterrupt\u001b[0m                         Traceback (most recent call last)",
      "Cell \u001b[1;32mIn[7], line 4\u001b[0m\n\u001b[0;32m      2\u001b[0m \u001b[38;5;28;01mwhile\u001b[39;00m \u001b[38;5;28;01mTrue\u001b[39;00m:\n\u001b[0;32m      3\u001b[0m     crypto_price_checker()\n\u001b[1;32m----> 4\u001b[0m     \u001b[43mtime\u001b[49m\u001b[38;5;241;43m.\u001b[39;49m\u001b[43msleep\u001b[49m\u001b[43m(\u001b[49m\u001b[38;5;241;43m10\u001b[39;49m\u001b[43m)\u001b[49m \u001b[38;5;66;03m#sleep for 10 sec and then run cell again.\u001b[39;00m\n",
      "\u001b[1;31mKeyboardInterrupt\u001b[0m: "
     ]
    }
   ],
   "source": [
    "# set up automation:\n",
    "while True:\n",
    "    crypto_price_checker()\n",
    "    time.sleep(10) #sleep for 10 sec and then run cell again."
   ]
  }
 ],
 "metadata": {
  "kernelspec": {
   "display_name": "Python 3",
   "language": "python",
   "name": "python3"
  },
  "language_info": {
   "codemirror_mode": {
    "name": "ipython",
    "version": 3
   },
   "file_extension": ".py",
   "mimetype": "text/x-python",
   "name": "python",
   "nbconvert_exporter": "python",
   "pygments_lexer": "ipython3",
   "version": "3.12.1"
  }
 },
 "nbformat": 4,
 "nbformat_minor": 2
}
